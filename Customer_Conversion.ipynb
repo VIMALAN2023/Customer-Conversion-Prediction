{
 "cells": [
  {
   "cell_type": "code",
   "execution_count": 1,
   "id": "dab5cc84",
   "metadata": {},
   "outputs": [],
   "source": [
    "import pandas as pd\n",
    "import numpy as np\n",
    "\n",
    "from sklearn.model_selection import train_test_split \n",
    "\n",
    "from sklearn import metrics \n",
    "import seaborn as sns \n",
    "import matplotlib.pyplot as plt \n",
    "\n",
    "import warnings \n",
    "warnings.filterwarnings(\"ignore\")"
   ]
  },
  {
   "cell_type": "code",
   "execution_count": 2,
   "id": "2f7954f0",
   "metadata": {},
   "outputs": [
    {
     "data": {
      "text/html": [
       "<div>\n",
       "<style scoped>\n",
       "    .dataframe tbody tr th:only-of-type {\n",
       "        vertical-align: middle;\n",
       "    }\n",
       "\n",
       "    .dataframe tbody tr th {\n",
       "        vertical-align: top;\n",
       "    }\n",
       "\n",
       "    .dataframe thead th {\n",
       "        text-align: right;\n",
       "    }\n",
       "</style>\n",
       "<table border=\"1\" class=\"dataframe\">\n",
       "  <thead>\n",
       "    <tr style=\"text-align: right;\">\n",
       "      <th></th>\n",
       "      <th>age</th>\n",
       "      <th>job</th>\n",
       "      <th>marital</th>\n",
       "      <th>education_qual</th>\n",
       "      <th>call_type</th>\n",
       "      <th>day</th>\n",
       "      <th>mon</th>\n",
       "      <th>dur</th>\n",
       "      <th>num_calls</th>\n",
       "      <th>prev_outcome</th>\n",
       "      <th>y</th>\n",
       "    </tr>\n",
       "  </thead>\n",
       "  <tbody>\n",
       "    <tr>\n",
       "      <th>0</th>\n",
       "      <td>58</td>\n",
       "      <td>management</td>\n",
       "      <td>married</td>\n",
       "      <td>tertiary</td>\n",
       "      <td>unknown</td>\n",
       "      <td>5</td>\n",
       "      <td>may</td>\n",
       "      <td>261</td>\n",
       "      <td>1</td>\n",
       "      <td>unknown</td>\n",
       "      <td>no</td>\n",
       "    </tr>\n",
       "    <tr>\n",
       "      <th>1</th>\n",
       "      <td>44</td>\n",
       "      <td>technician</td>\n",
       "      <td>single</td>\n",
       "      <td>secondary</td>\n",
       "      <td>unknown</td>\n",
       "      <td>5</td>\n",
       "      <td>may</td>\n",
       "      <td>151</td>\n",
       "      <td>1</td>\n",
       "      <td>unknown</td>\n",
       "      <td>no</td>\n",
       "    </tr>\n",
       "    <tr>\n",
       "      <th>2</th>\n",
       "      <td>33</td>\n",
       "      <td>entrepreneur</td>\n",
       "      <td>married</td>\n",
       "      <td>secondary</td>\n",
       "      <td>unknown</td>\n",
       "      <td>5</td>\n",
       "      <td>may</td>\n",
       "      <td>76</td>\n",
       "      <td>1</td>\n",
       "      <td>unknown</td>\n",
       "      <td>no</td>\n",
       "    </tr>\n",
       "    <tr>\n",
       "      <th>3</th>\n",
       "      <td>47</td>\n",
       "      <td>blue-collar</td>\n",
       "      <td>married</td>\n",
       "      <td>unknown</td>\n",
       "      <td>unknown</td>\n",
       "      <td>5</td>\n",
       "      <td>may</td>\n",
       "      <td>92</td>\n",
       "      <td>1</td>\n",
       "      <td>unknown</td>\n",
       "      <td>no</td>\n",
       "    </tr>\n",
       "    <tr>\n",
       "      <th>4</th>\n",
       "      <td>33</td>\n",
       "      <td>unknown</td>\n",
       "      <td>single</td>\n",
       "      <td>unknown</td>\n",
       "      <td>unknown</td>\n",
       "      <td>5</td>\n",
       "      <td>may</td>\n",
       "      <td>198</td>\n",
       "      <td>1</td>\n",
       "      <td>unknown</td>\n",
       "      <td>no</td>\n",
       "    </tr>\n",
       "    <tr>\n",
       "      <th>...</th>\n",
       "      <td>...</td>\n",
       "      <td>...</td>\n",
       "      <td>...</td>\n",
       "      <td>...</td>\n",
       "      <td>...</td>\n",
       "      <td>...</td>\n",
       "      <td>...</td>\n",
       "      <td>...</td>\n",
       "      <td>...</td>\n",
       "      <td>...</td>\n",
       "      <td>...</td>\n",
       "    </tr>\n",
       "    <tr>\n",
       "      <th>45206</th>\n",
       "      <td>51</td>\n",
       "      <td>technician</td>\n",
       "      <td>married</td>\n",
       "      <td>tertiary</td>\n",
       "      <td>cellular</td>\n",
       "      <td>17</td>\n",
       "      <td>nov</td>\n",
       "      <td>977</td>\n",
       "      <td>3</td>\n",
       "      <td>unknown</td>\n",
       "      <td>yes</td>\n",
       "    </tr>\n",
       "    <tr>\n",
       "      <th>45207</th>\n",
       "      <td>71</td>\n",
       "      <td>retired</td>\n",
       "      <td>divorced</td>\n",
       "      <td>primary</td>\n",
       "      <td>cellular</td>\n",
       "      <td>17</td>\n",
       "      <td>nov</td>\n",
       "      <td>456</td>\n",
       "      <td>2</td>\n",
       "      <td>unknown</td>\n",
       "      <td>yes</td>\n",
       "    </tr>\n",
       "    <tr>\n",
       "      <th>45208</th>\n",
       "      <td>72</td>\n",
       "      <td>retired</td>\n",
       "      <td>married</td>\n",
       "      <td>secondary</td>\n",
       "      <td>cellular</td>\n",
       "      <td>17</td>\n",
       "      <td>nov</td>\n",
       "      <td>1127</td>\n",
       "      <td>5</td>\n",
       "      <td>success</td>\n",
       "      <td>yes</td>\n",
       "    </tr>\n",
       "    <tr>\n",
       "      <th>45209</th>\n",
       "      <td>57</td>\n",
       "      <td>blue-collar</td>\n",
       "      <td>married</td>\n",
       "      <td>secondary</td>\n",
       "      <td>telephone</td>\n",
       "      <td>17</td>\n",
       "      <td>nov</td>\n",
       "      <td>508</td>\n",
       "      <td>4</td>\n",
       "      <td>unknown</td>\n",
       "      <td>no</td>\n",
       "    </tr>\n",
       "    <tr>\n",
       "      <th>45210</th>\n",
       "      <td>37</td>\n",
       "      <td>entrepreneur</td>\n",
       "      <td>married</td>\n",
       "      <td>secondary</td>\n",
       "      <td>cellular</td>\n",
       "      <td>17</td>\n",
       "      <td>nov</td>\n",
       "      <td>361</td>\n",
       "      <td>2</td>\n",
       "      <td>other</td>\n",
       "      <td>no</td>\n",
       "    </tr>\n",
       "  </tbody>\n",
       "</table>\n",
       "<p>45211 rows × 11 columns</p>\n",
       "</div>"
      ],
      "text/plain": [
       "       age           job   marital education_qual  call_type  day  mon   dur  \\\n",
       "0       58    management   married       tertiary    unknown    5  may   261   \n",
       "1       44    technician    single      secondary    unknown    5  may   151   \n",
       "2       33  entrepreneur   married      secondary    unknown    5  may    76   \n",
       "3       47   blue-collar   married        unknown    unknown    5  may    92   \n",
       "4       33       unknown    single        unknown    unknown    5  may   198   \n",
       "...    ...           ...       ...            ...        ...  ...  ...   ...   \n",
       "45206   51    technician   married       tertiary   cellular   17  nov   977   \n",
       "45207   71       retired  divorced        primary   cellular   17  nov   456   \n",
       "45208   72       retired   married      secondary   cellular   17  nov  1127   \n",
       "45209   57   blue-collar   married      secondary  telephone   17  nov   508   \n",
       "45210   37  entrepreneur   married      secondary   cellular   17  nov   361   \n",
       "\n",
       "       num_calls prev_outcome    y  \n",
       "0              1      unknown   no  \n",
       "1              1      unknown   no  \n",
       "2              1      unknown   no  \n",
       "3              1      unknown   no  \n",
       "4              1      unknown   no  \n",
       "...          ...          ...  ...  \n",
       "45206          3      unknown  yes  \n",
       "45207          2      unknown  yes  \n",
       "45208          5      success  yes  \n",
       "45209          4      unknown   no  \n",
       "45210          2        other   no  \n",
       "\n",
       "[45211 rows x 11 columns]"
      ]
     },
     "execution_count": 2,
     "metadata": {},
     "output_type": "execute_result"
    }
   ],
   "source": [
    "data=pd.read_csv('customer.csv')\n",
    "data"
   ]
  },
  {
   "cell_type": "markdown",
   "id": "89b2a759",
   "metadata": {},
   "source": [
    "# CHECKING BALANCED OR NOT"
   ]
  },
  {
   "cell_type": "code",
   "execution_count": 3,
   "id": "0a824e56",
   "metadata": {},
   "outputs": [
    {
     "data": {
      "text/plain": [
       "no     39922\n",
       "yes     5289\n",
       "Name: y, dtype: int64"
      ]
     },
     "execution_count": 3,
     "metadata": {},
     "output_type": "execute_result"
    }
   ],
   "source": [
    "data['y'].value_counts()"
   ]
  },
  {
   "cell_type": "code",
   "execution_count": 4,
   "id": "ed14ec03",
   "metadata": {},
   "outputs": [
    {
     "data": {
      "text/plain": [
       "88.30151954170445"
      ]
     },
     "execution_count": 4,
     "metadata": {},
     "output_type": "execute_result"
    }
   ],
   "source": [
    "((39922)/(39922+5289))*100"
   ]
  },
  {
   "cell_type": "code",
   "execution_count": 5,
   "id": "5e342faf",
   "metadata": {},
   "outputs": [
    {
     "data": {
      "text/plain": [
       "11.698480458295547"
      ]
     },
     "execution_count": 5,
     "metadata": {},
     "output_type": "execute_result"
    }
   ],
   "source": [
    "((5289)/(39922+5289))*100"
   ]
  },
  {
   "cell_type": "markdown",
   "id": "11a1755b",
   "metadata": {},
   "source": [
    "The dataset is imbalanced"
   ]
  },
  {
   "cell_type": "markdown",
   "id": "c68c6ca4",
   "metadata": {},
   "source": [
    "# DATA PREPROCESSING"
   ]
  },
  {
   "cell_type": "code",
   "execution_count": 6,
   "id": "8009451e",
   "metadata": {},
   "outputs": [
    {
     "data": {
      "text/plain": [
       "(45211, 11)"
      ]
     },
     "execution_count": 6,
     "metadata": {},
     "output_type": "execute_result"
    }
   ],
   "source": [
    "data.shape"
   ]
  },
  {
   "cell_type": "markdown",
   "id": "b6644aaf",
   "metadata": {},
   "source": [
    "# CLEAN THE DATA"
   ]
  },
  {
   "cell_type": "markdown",
   "id": "e2468c7a",
   "metadata": {},
   "source": [
    "To clean the data i'm going to do 4 steps:\n",
    "\n",
    "    1.Missing values(data) and checking duplicate data\n",
    "    2.Spelling correction\n",
    "    3.Data format check (datatype)\n",
    "    4.Outlier check"
   ]
  },
  {
   "cell_type": "markdown",
   "id": "24d079a6",
   "metadata": {},
   "source": [
    "# First step is to check is there any missing value(data) & Duplicates data"
   ]
  },
  {
   "cell_type": "code",
   "execution_count": 7,
   "id": "6b868c73",
   "metadata": {},
   "outputs": [
    {
     "data": {
      "text/plain": [
       "age               0\n",
       "job               0\n",
       "marital           0\n",
       "education_qual    0\n",
       "call_type         0\n",
       "day               0\n",
       "mon               0\n",
       "dur               0\n",
       "num_calls         0\n",
       "prev_outcome      0\n",
       "y                 0\n",
       "dtype: int64"
      ]
     },
     "execution_count": 7,
     "metadata": {},
     "output_type": "execute_result"
    }
   ],
   "source": [
    "data.isnull().sum()"
   ]
  },
  {
   "cell_type": "markdown",
   "id": "bd2992ee",
   "metadata": {},
   "source": [
    "There are no null values in any columns."
   ]
  },
  {
   "cell_type": "code",
   "execution_count": 8,
   "id": "5687e88a",
   "metadata": {},
   "outputs": [
    {
     "data": {
      "text/plain": [
       "6"
      ]
     },
     "execution_count": 8,
     "metadata": {},
     "output_type": "execute_result"
    }
   ],
   "source": [
    "data.duplicated().sum()"
   ]
  },
  {
   "cell_type": "code",
   "execution_count": 9,
   "id": "e03dd03e",
   "metadata": {},
   "outputs": [
    {
     "data": {
      "text/plain": [
       "0"
      ]
     },
     "execution_count": 9,
     "metadata": {},
     "output_type": "execute_result"
    }
   ],
   "source": [
    "data=data.drop_duplicates()\n",
    "data.duplicated().sum()"
   ]
  },
  {
   "cell_type": "markdown",
   "id": "2ff16b03",
   "metadata": {},
   "source": [
    "# Second step is to check is data in right format"
   ]
  },
  {
   "cell_type": "code",
   "execution_count": 10,
   "id": "f7361cd4",
   "metadata": {},
   "outputs": [
    {
     "data": {
      "text/plain": [
       "age                int64\n",
       "job               object\n",
       "marital           object\n",
       "education_qual    object\n",
       "call_type         object\n",
       "day                int64\n",
       "mon               object\n",
       "dur                int64\n",
       "num_calls          int64\n",
       "prev_outcome      object\n",
       "y                 object\n",
       "dtype: object"
      ]
     },
     "execution_count": 10,
     "metadata": {},
     "output_type": "execute_result"
    }
   ],
   "source": [
    "data.dtypes"
   ]
  },
  {
   "cell_type": "markdown",
   "id": "b593ee1d",
   "metadata": {},
   "source": [
    "# Third step is to check is there any spelling mistakes in object datas:"
   ]
  },
  {
   "cell_type": "code",
   "execution_count": 11,
   "id": "b44bc9c5",
   "metadata": {},
   "outputs": [
    {
     "data": {
      "text/plain": [
       "Index(['age', 'job', 'marital', 'education_qual', 'call_type', 'day', 'mon',\n",
       "       'dur', 'num_calls', 'prev_outcome', 'y'],\n",
       "      dtype='object')"
      ]
     },
     "execution_count": 11,
     "metadata": {},
     "output_type": "execute_result"
    }
   ],
   "source": [
    "data.columns"
   ]
  },
  {
   "cell_type": "code",
   "execution_count": 12,
   "id": "1b86b178",
   "metadata": {},
   "outputs": [
    {
     "name": "stdout",
     "output_type": "stream",
     "text": [
      "['management' 'technician' 'entrepreneur' 'blue-collar' 'unknown'\n",
      " 'retired' 'admin.' 'services' 'self-employed' 'unemployed' 'housemaid'\n",
      " 'student']\n",
      "['married' 'single' 'divorced']\n",
      "['tertiary' 'secondary' 'unknown' 'primary']\n",
      "['unknown' 'cellular' 'telephone']\n",
      "['may' 'jun' 'jul' 'aug' 'oct' 'nov' 'dec' 'jan' 'feb' 'mar' 'apr' 'sep']\n",
      "['no' 'yes']\n"
     ]
    }
   ],
   "source": [
    "print(data['job'].unique())\n",
    "print(data['marital'].unique())\n",
    "print(data['education_qual'].unique())\n",
    "print(data['call_type'].unique())\n",
    "print(data['mon'].unique())\n",
    "print(data['y'].unique())"
   ]
  },
  {
   "cell_type": "markdown",
   "id": "c14e04f2",
   "metadata": {},
   "source": [
    "# Fourth step is there any outliers in the given data"
   ]
  },
  {
   "cell_type": "code",
   "execution_count": 13,
   "id": "3ee201c4",
   "metadata": {},
   "outputs": [
    {
     "data": {
      "text/html": [
       "<div>\n",
       "<style scoped>\n",
       "    .dataframe tbody tr th:only-of-type {\n",
       "        vertical-align: middle;\n",
       "    }\n",
       "\n",
       "    .dataframe tbody tr th {\n",
       "        vertical-align: top;\n",
       "    }\n",
       "\n",
       "    .dataframe thead th {\n",
       "        text-align: right;\n",
       "    }\n",
       "</style>\n",
       "<table border=\"1\" class=\"dataframe\">\n",
       "  <thead>\n",
       "    <tr style=\"text-align: right;\">\n",
       "      <th></th>\n",
       "      <th>age</th>\n",
       "      <th>day</th>\n",
       "      <th>dur</th>\n",
       "      <th>num_calls</th>\n",
       "    </tr>\n",
       "  </thead>\n",
       "  <tbody>\n",
       "    <tr>\n",
       "      <th>count</th>\n",
       "      <td>45205.000000</td>\n",
       "      <td>45205.00000</td>\n",
       "      <td>45205.000000</td>\n",
       "      <td>45205.000000</td>\n",
       "    </tr>\n",
       "    <tr>\n",
       "      <th>mean</th>\n",
       "      <td>40.937087</td>\n",
       "      <td>15.80688</td>\n",
       "      <td>258.183055</td>\n",
       "      <td>2.763898</td>\n",
       "    </tr>\n",
       "    <tr>\n",
       "      <th>std</th>\n",
       "      <td>10.619130</td>\n",
       "      <td>8.32234</td>\n",
       "      <td>257.538504</td>\n",
       "      <td>3.098189</td>\n",
       "    </tr>\n",
       "    <tr>\n",
       "      <th>min</th>\n",
       "      <td>18.000000</td>\n",
       "      <td>1.00000</td>\n",
       "      <td>0.000000</td>\n",
       "      <td>1.000000</td>\n",
       "    </tr>\n",
       "    <tr>\n",
       "      <th>25%</th>\n",
       "      <td>33.000000</td>\n",
       "      <td>8.00000</td>\n",
       "      <td>103.000000</td>\n",
       "      <td>1.000000</td>\n",
       "    </tr>\n",
       "    <tr>\n",
       "      <th>50%</th>\n",
       "      <td>39.000000</td>\n",
       "      <td>16.00000</td>\n",
       "      <td>180.000000</td>\n",
       "      <td>2.000000</td>\n",
       "    </tr>\n",
       "    <tr>\n",
       "      <th>75%</th>\n",
       "      <td>48.000000</td>\n",
       "      <td>21.00000</td>\n",
       "      <td>319.000000</td>\n",
       "      <td>3.000000</td>\n",
       "    </tr>\n",
       "    <tr>\n",
       "      <th>max</th>\n",
       "      <td>95.000000</td>\n",
       "      <td>31.00000</td>\n",
       "      <td>4918.000000</td>\n",
       "      <td>63.000000</td>\n",
       "    </tr>\n",
       "  </tbody>\n",
       "</table>\n",
       "</div>"
      ],
      "text/plain": [
       "                age          day           dur     num_calls\n",
       "count  45205.000000  45205.00000  45205.000000  45205.000000\n",
       "mean      40.937087     15.80688    258.183055      2.763898\n",
       "std       10.619130      8.32234    257.538504      3.098189\n",
       "min       18.000000      1.00000      0.000000      1.000000\n",
       "25%       33.000000      8.00000    103.000000      1.000000\n",
       "50%       39.000000     16.00000    180.000000      2.000000\n",
       "75%       48.000000     21.00000    319.000000      3.000000\n",
       "max       95.000000     31.00000   4918.000000     63.000000"
      ]
     },
     "execution_count": 13,
     "metadata": {},
     "output_type": "execute_result"
    }
   ],
   "source": [
    "data.describe()"
   ]
  },
  {
   "cell_type": "code",
   "execution_count": 14,
   "id": "7fd81a43",
   "metadata": {},
   "outputs": [
    {
     "data": {
      "text/plain": [
       "(70.5, 10.5)"
      ]
     },
     "execution_count": 14,
     "metadata": {},
     "output_type": "execute_result"
    }
   ],
   "source": [
    "# Checking age column\n",
    "iqr = data['age'].quantile(0.75) - data['age'].quantile(0.25)\n",
    "upper_threshold = data['age'].quantile(0.75) + (1.5 * iqr)\n",
    "lower_threshold = data['age'].quantile(0.25) - (1.5 * iqr)\n",
    "upper_threshold, lower_threshold"
   ]
  },
  {
   "cell_type": "code",
   "execution_count": 15,
   "id": "0b690ae4",
   "metadata": {},
   "outputs": [
    {
     "data": {
      "text/plain": [
       "(40.5, -11.5)"
      ]
     },
     "execution_count": 15,
     "metadata": {},
     "output_type": "execute_result"
    }
   ],
   "source": [
    "# Checking day column\n",
    "iqr = data['day'].quantile(0.75) - data['day'].quantile(0.25)\n",
    "upper_threshold = data['day'].quantile(0.75) + (1.5 * iqr)\n",
    "lower_threshold = data['day'].quantile(0.25) - (1.5 * iqr)\n",
    "upper_threshold, lower_threshold"
   ]
  },
  {
   "cell_type": "code",
   "execution_count": 16,
   "id": "571f9859",
   "metadata": {},
   "outputs": [
    {
     "data": {
      "text/plain": [
       "(643.0, -221.0)"
      ]
     },
     "execution_count": 16,
     "metadata": {},
     "output_type": "execute_result"
    }
   ],
   "source": [
    "# Checking duration column\n",
    "iqr = data['dur'].quantile(0.75) - data['dur'].quantile(0.25)\n",
    "upper_threshold = data['dur'].quantile(0.75) + (1.5 * iqr)\n",
    "lower_threshold = data['dur'].quantile(0.25) - (1.5 * iqr)\n",
    "upper_threshold, lower_threshold\n"
   ]
  },
  {
   "cell_type": "code",
   "execution_count": 17,
   "id": "f500a5ce",
   "metadata": {},
   "outputs": [],
   "source": [
    "data.dur = data.dur.clip(-221,643)"
   ]
  },
  {
   "cell_type": "code",
   "execution_count": 18,
   "id": "fec7412b",
   "metadata": {},
   "outputs": [
    {
     "data": {
      "text/plain": [
       "(6.0, -2.0)"
      ]
     },
     "execution_count": 18,
     "metadata": {},
     "output_type": "execute_result"
    }
   ],
   "source": [
    "# Checking num_calls column\n",
    "iqr = data['num_calls'].quantile(0.75) - data['num_calls'].quantile(0.25)\n",
    "upper_threshold = data['num_calls'].quantile(0.75) + (1.5 * iqr)\n",
    "lower_threshold = data['num_calls'].quantile(0.25) - (1.5 * iqr)\n",
    "upper_threshold, lower_threshold"
   ]
  },
  {
   "cell_type": "code",
   "execution_count": 19,
   "id": "c01a42e9",
   "metadata": {},
   "outputs": [],
   "source": [
    "data.num_calls = data.num_calls.clip(-2,6)"
   ]
  },
  {
   "cell_type": "markdown",
   "id": "22336f24",
   "metadata": {},
   "source": [
    "# EDA"
   ]
  },
  {
   "cell_type": "markdown",
   "id": "b7b1ee6f",
   "metadata": {},
   "source": [
    "## Univariant Analysis"
   ]
  },
  {
   "cell_type": "markdown",
   "id": "e5ad45e7",
   "metadata": {},
   "source": [
    "## DISTRIBUTION OF FEATURES"
   ]
  },
  {
   "cell_type": "code",
   "execution_count": 20,
   "id": "a7a7ab91",
   "metadata": {},
   "outputs": [
    {
     "data": {
      "image/png": "[encoded data removed]",
      "text/plain": [
       "<Figure size 504x504 with 1 Axes>"
      ]
     },
     "metadata": {
      "needs_background": "light"
     },
     "output_type": "display_data"
    }
   ],
   "source": [
    "# Distribution of age column\n",
    "plt.figure(figsize=(7,7))\n",
    "sns.distplot(data.age)\n",
    "plt.show()"
   ]
  },
  {
   "cell_type": "code",
   "execution_count": 21,
   "id": "53894c13",
   "metadata": {},
   "outputs": [
    {
     "data": {
      "image/png": "[encoded data removed]",
      "text/plain": [
       "<Figure size 504x504 with 1 Axes>"
      ]
     },
     "metadata": {
      "needs_background": "light"
     },
     "output_type": "display_data"
    }
   ],
   "source": [
    "# Distribution of day column\n",
    "plt.figure(figsize=(7,7))\n",
    "sns.distplot(data.day)\n",
    "plt.show()"
   ]
  },
  {
   "cell_type": "code",
   "execution_count": 22,
   "id": "4c88caa7",
   "metadata": {},
   "outputs": [
    {
     "data": {
      "image/png": "[encoded data removed]",
      "text/plain": [
       "<Figure size 504x504 with 1 Axes>"
      ]
     },
     "metadata": {
      "needs_background": "light"
     },
     "output_type": "display_data"
    }
   ],
   "source": [
    "# Distribution of duration column\n",
    "plt.figure(figsize=(7,7))\n",
    "sns.distplot(data.dur)\n",
    "plt.show()"
   ]
  },
  {
   "cell_type": "code",
   "execution_count": 23,
   "id": "87af4857",
   "metadata": {},
   "outputs": [
    {
     "data": {
      "image/png": "[encoded data removed]",
      "text/plain": [
       "<Figure size 504x504 with 1 Axes>"
      ]
     },
     "metadata": {
      "needs_background": "light"
     },
     "output_type": "display_data"
    }
   ],
   "source": [
    "# Distribution of num_calls column\n",
    "plt.figure(figsize=(7,7))\n",
    "sns.distplot(data.num_calls)\n",
    "plt.show()"
   ]
  },
  {
   "cell_type": "code",
   "execution_count": 24,
   "id": "82e3db0d",
   "metadata": {},
   "outputs": [
    {
     "data": {
      "image/png": "[encoded data removed]",
      "text/plain": [
       "<Figure size 720x432 with 1 Axes>"
      ]
     },
     "metadata": {},
     "output_type": "display_data"
    }
   ],
   "source": [
    "# Distribution of job column\n",
    "plt.figure(figsize=(10,6))\n",
    "df_source = data.job.value_counts()\n",
    "df_source = df_source.reset_index()\n",
    "plt.pie(df_source['job'],labels=df_source['index'],autopct='%1.1f%%')\n",
    "plt.title('Percent distribution of  job')\n",
    "plt.axis('equal')\n",
    "plt.show()"
   ]
  },
  {
   "cell_type": "code",
   "execution_count": 25,
   "id": "7fe04019",
   "metadata": {},
   "outputs": [
    {
     "data": {
      "image/png": "[encoded data removed]",
      "text/plain": [
       "<Figure size 432x288 with 1 Axes>"
      ]
     },
     "metadata": {},
     "output_type": "display_data"
    }
   ],
   "source": [
    "# Distribution of Marital column\n",
    "df_source = data.marital.value_counts()\n",
    "df_source = df_source.reset_index()\n",
    "plt.pie(df_source['marital'],labels=df_source['index'],autopct='%1.1f%%')\n",
    "plt.title('Percent distribution of  marital')\n",
    "plt.axis('equal')\n",
    "plt.show()"
   ]
  },
  {
   "cell_type": "code",
   "execution_count": 26,
   "id": "00991bbb",
   "metadata": {},
   "outputs": [
    {
     "data": {
      "image/png": "[encoded data removed]",
      "text/plain": [
       "<Figure size 432x288 with 1 Axes>"
      ]
     },
     "metadata": {},
     "output_type": "display_data"
    }
   ],
   "source": [
    "# Distribution of Educational column\n",
    "df_source = data.education_qual.value_counts()\n",
    "df_source = df_source.reset_index()\n",
    "plt.pie(df_source['education_qual'],labels=df_source['index'],autopct='%1.1f%%')\n",
    "plt.title('Percent distribution of  education_qual')\n",
    "plt.axis('equal')\n",
    "plt.show()"
   ]
  },
  {
   "cell_type": "code",
   "execution_count": 27,
   "id": "55c0b9f9",
   "metadata": {},
   "outputs": [
    {
     "data": {
      "image/png": "[encoded data removed]",
      "text/plain": [
       "<Figure size 432x288 with 1 Axes>"
      ]
     },
     "metadata": {},
     "output_type": "display_data"
    }
   ],
   "source": [
    "# Distribution of call_type column\n",
    "df_source = data.call_type\t.value_counts()\n",
    "df_source = df_source.reset_index()\n",
    "plt.pie(df_source['call_type'],labels=df_source['index'],autopct='%1.1f%%')\n",
    "plt.title('Percent distribution of  call_type\t')\n",
    "plt.axis('equal')\n",
    "plt.show()"
   ]
  },
  {
   "cell_type": "code",
   "execution_count": 28,
   "id": "005d7385",
   "metadata": {},
   "outputs": [
    {
     "data": {
      "image/png": "[encoded data removed]",
      "text/plain": [
       "<Figure size 720x432 with 1 Axes>"
      ]
     },
     "metadata": {},
     "output_type": "display_data"
    }
   ],
   "source": [
    "# Distribution of month column\n",
    "plt.figure(figsize=(10,6))\n",
    "df_source = data.mon.value_counts()\n",
    "df_source = df_source.reset_index()\n",
    "plt.pie(df_source['mon'],labels=df_source['index'],autopct='%1.1f%%')\n",
    "plt.title('Percent distribution of  mon')\n",
    "plt.axis('equal')\n",
    "plt.show()"
   ]
  },
  {
   "cell_type": "code",
   "execution_count": 29,
   "id": "12647614",
   "metadata": {},
   "outputs": [
    {
     "data": {
      "image/png": "[encoded data removed]",
      "text/plain": [
       "<Figure size 432x288 with 1 Axes>"
      ]
     },
     "metadata": {},
     "output_type": "display_data"
    }
   ],
   "source": [
    "# Distribution of prev_outcome column\n",
    "df_source = data.prev_outcome.value_counts()\n",
    "df_source = df_source.reset_index()\n",
    "plt.pie(df_source['prev_outcome'],labels=df_source['index'],autopct='%1.1f%%')\n",
    "plt.title('Percent distribution of  prev_outcome')\n",
    "plt.axis('equal')\n",
    "plt.show()"
   ]
  },
  {
   "cell_type": "code",
   "execution_count": 30,
   "id": "06f57598",
   "metadata": {},
   "outputs": [],
   "source": [
    "data['y']=data['y'].map({'yes':1,'no':0})"
   ]
  },
  {
   "cell_type": "markdown",
   "id": "85292d8f",
   "metadata": {},
   "source": [
    "## FEATURES VS TARGET"
   ]
  },
  {
   "cell_type": "markdown",
   "id": "babbefd9",
   "metadata": {},
   "source": [
    "## Bivariant Analysis"
   ]
  },
  {
   "cell_type": "code",
   "execution_count": 31,
   "id": "d18804a6",
   "metadata": {},
   "outputs": [
    {
     "data": {
      "image/png": "[encoded data removed]",
      "text/plain": [
       "<Figure size 432x288 with 1 Axes>"
      ]
     },
     "metadata": {
      "needs_background": "light"
     },
     "output_type": "display_data"
    }
   ],
   "source": [
    "# Age vs Target\n",
    "sns.histplot(data=data, x=\"age\", hue=\"y\", multiple=\"stack\",binwidth=3)\n",
    "plt.title('AGE VS TARGET')\n",
    "plt.show()"
   ]
  },
  {
   "cell_type": "markdown",
   "id": "d18114bb",
   "metadata": {},
   "source": [
    "Middle Age peoples insured more than the young and aged ones."
   ]
  },
  {
   "cell_type": "code",
   "execution_count": 32,
   "id": "73f6ea6f",
   "metadata": {},
   "outputs": [
    {
     "data": {
      "image/png": "[encoded data removed]",
      "text/plain": [
       "<Figure size 432x288 with 1 Axes>"
      ]
     },
     "metadata": {
      "needs_background": "light"
     },
     "output_type": "display_data"
    }
   ],
   "source": [
    "# Day vs Target\n",
    "sns.histplot(data=data, x=\"day\", hue=\"y\", multiple=\"stack\",binwidth=3)\n",
    "plt.title('DAY VS TARGET')\n",
    "plt.show()"
   ]
  },
  {
   "cell_type": "markdown",
   "id": "eb1f7854",
   "metadata": {},
   "source": [
    "Day may not a reason for subscribtion. Etheir we can drop or not. It's upto we to decide."
   ]
  },
  {
   "cell_type": "code",
   "execution_count": 33,
   "id": "5f48b94b",
   "metadata": {},
   "outputs": [
    {
     "data": {
      "image/png": "[encoded data removed]",
      "text/plain": [
       "<Figure size 432x288 with 1 Axes>"
      ]
     },
     "metadata": {
      "needs_background": "light"
     },
     "output_type": "display_data"
    }
   ],
   "source": [
    "# Duration vs Target\n",
    "sns.histplot(data=data, x=\"dur\", hue=\"y\", multiple=\"stack\",binwidth=3)\n",
    "plt.title('DUR VS TARGET')\n",
    "plt.show()"
   ]
  },
  {
   "cell_type": "markdown",
   "id": "6c323996",
   "metadata": {},
   "source": [
    "Duration of the call plays a major role in subcription."
   ]
  },
  {
   "cell_type": "code",
   "execution_count": 34,
   "id": "33dd171b",
   "metadata": {},
   "outputs": [
    {
     "data": {
      "image/png": "[encoded data removed]",
      "text/plain": [
       "<Figure size 432x288 with 1 Axes>"
      ]
     },
     "metadata": {
      "needs_background": "light"
     },
     "output_type": "display_data"
    }
   ],
   "source": [
    "# Num_calls vs Target\n",
    "sns.histplot(data=data, x=\"num_calls\", hue=\"y\", multiple=\"stack\",binwidth=3)\n",
    "plt.title('NUM_CALLS VS TARGET')\n",
    "plt.show()"
   ]
  },
  {
   "cell_type": "code",
   "execution_count": 35,
   "id": "5b3d3bd5",
   "metadata": {},
   "outputs": [
    {
     "data": {
      "image/png": "[encoded data removed]",
      "text/plain": [
       "<Figure size 432x288 with 1 Axes>"
      ]
     },
     "metadata": {
      "needs_background": "light"
     },
     "output_type": "display_data"
    }
   ],
   "source": [
    "# Job vs Target\n",
    "sns.barplot(x='job',y='y',data=data,order=data.groupby('job')['y'].mean().reset_index().sort_values('y')['job'])\n",
    "plt.xticks(rotation=75)\n",
    "plt.title('job vs target')\n",
    "plt.show()"
   ]
  },
  {
   "cell_type": "markdown",
   "id": "46776e19",
   "metadata": {},
   "source": [
    "FROM JOB VS TARGET , We got that student are targeted to subcribe the insurance more than others and then, the RETIRED people are targeted more."
   ]
  },
  {
   "cell_type": "code",
   "execution_count": 36,
   "id": "0e35cd4f",
   "metadata": {},
   "outputs": [
    {
     "data": {
      "image/png": "[encoded data removed]",
      "text/plain": [
       "<Figure size 432x288 with 1 Axes>"
      ]
     },
     "metadata": {
      "needs_background": "light"
     },
     "output_type": "display_data"
    }
   ],
   "source": [
    "# Marital column vs Target\n",
    "sns.barplot(x='marital',y='y',data=data,order=data.groupby('marital')['y'].mean().reset_index().sort_values('y')['marital'])\n",
    "plt.xticks(rotation=15)\n",
    "plt.title('marital vs target')\n",
    "plt.show()"
   ]
  },
  {
   "cell_type": "markdown",
   "id": "313a4e65",
   "metadata": {},
   "source": [
    "FROM MARITIAL VS TARGET ,\n",
    "We got SINGLE people targeted more to subscribe the insurance more than others."
   ]
  },
  {
   "cell_type": "code",
   "execution_count": 37,
   "id": "24844153",
   "metadata": {},
   "outputs": [
    {
     "data": {
      "image/png": "[encoded data removed]",
      "text/plain": [
       "<Figure size 432x288 with 1 Axes>"
      ]
     },
     "metadata": {
      "needs_background": "light"
     },
     "output_type": "display_data"
    }
   ],
   "source": [
    "# Educational Qualification vs Target\n",
    "sns.barplot(x='education_qual',y='y',data=data,order=data.groupby('education_qual')['y'].mean().reset_index().sort_values('y')['education_qual'])\n",
    "plt.xticks(rotation=15)\n",
    "plt.title('education_qual vs target')\n",
    "plt.show()"
   ]
  },
  {
   "cell_type": "markdown",
   "id": "be24bf26",
   "metadata": {},
   "source": [
    "FROM EQUCATION QUALIFICATION VS TARGET , We got TERTIARY people interested more to subscribe the insurance more than others."
   ]
  },
  {
   "cell_type": "code",
   "execution_count": 38,
   "id": "ea66787b",
   "metadata": {},
   "outputs": [
    {
     "data": {
      "image/png": "[encoded data removed]",
      "text/plain": [
       "<Figure size 432x288 with 1 Axes>"
      ]
     },
     "metadata": {
      "needs_background": "light"
     },
     "output_type": "display_data"
    }
   ],
   "source": [
    "# Call Type vs Target\n",
    "sns.barplot(x='call_type',y='y',data=data,order=data.groupby('call_type')['y'].mean().reset_index().sort_values('y')['call_type'])\n",
    "plt.xticks(rotation=15)\n",
    "plt.title('call_type vs target')\n",
    "plt.show()"
   ]
  },
  {
   "cell_type": "markdown",
   "id": "788ebc8b",
   "metadata": {},
   "source": [
    "FROM CALL TYPE VS TARGET , We got CELLULAR people interested more to subscribe the insurance more than others."
   ]
  },
  {
   "cell_type": "code",
   "execution_count": 39,
   "id": "50a206a9",
   "metadata": {},
   "outputs": [
    {
     "data": {
      "image/png": "[encoded data removed]",
      "text/plain": [
       "<Figure size 432x288 with 1 Axes>"
      ]
     },
     "metadata": {
      "needs_background": "light"
     },
     "output_type": "display_data"
    }
   ],
   "source": [
    "# Month Column vs Target\n",
    "sns.barplot(x='mon',y='y',data=data,order=data.groupby('mon')['y'].mean().reset_index().sort_values('y')['mon'])\n",
    "plt.xticks(rotation=15)\n",
    "plt.title('mon vs target')\n",
    "plt.show()"
   ]
  },
  {
   "cell_type": "markdown",
   "id": "63eb11b1",
   "metadata": {},
   "source": [
    "FROM MONTH VS TARGET , We got MAR month scored much amount to subscribe the insurance more than others. Because, the trend during the month of MARCH is high, as march being the end of financial year in INDIA and the month of DECEMBER is the second highest one as being the financial year in ABROADS."
   ]
  },
  {
   "cell_type": "code",
   "execution_count": 40,
   "id": "d54d0440",
   "metadata": {},
   "outputs": [
    {
     "data": {
      "image/png": "[encoded data removed]",
      "text/plain": [
       "<Figure size 432x288 with 1 Axes>"
      ]
     },
     "metadata": {
      "needs_background": "light"
     },
     "output_type": "display_data"
    }
   ],
   "source": [
    "# Previous Outcome vs Target\n",
    "sns.barplot(x='prev_outcome',y='y',data=data,order=data.groupby('prev_outcome')['y'].mean().reset_index().sort_values('y')['prev_outcome'])\n",
    "plt.xticks(rotation=15)\n",
    "plt.title('prev_outcome vs target')\n",
    "plt.show()"
   ]
  },
  {
   "cell_type": "markdown",
   "id": "69ed07ed",
   "metadata": {},
   "source": [
    "FROM PREVIOUS OUTCOME VS TARGET , We got SUCCESS people interested more to subscribe the insurance more than others."
   ]
  },
  {
   "cell_type": "markdown",
   "id": "db061c92",
   "metadata": {},
   "source": [
    "# ENCODE THE DATA"
   ]
  },
  {
   "cell_type": "markdown",
   "id": "0f736822",
   "metadata": {},
   "source": [
    "## LABEL ENCODING"
   ]
  },
  {
   "cell_type": "code",
   "execution_count": 41,
   "id": "5a5984ed",
   "metadata": {},
   "outputs": [],
   "source": [
    "data['job']=data['job'].map({'blue-collar':0,'entrepreneur':1,'housemaid':2,'services':3,'technician':4,'unknown':5,'self-employed':6,'admin.':7,'management':8,'unemployed':9,'retired':10,'student':11})\n",
    "data['education_qual']=data['education_qual'].map({'primary':0,'secondary':1,'unknown':2,'tertiary':3})\n",
    "data['call_type']=data['call_type'].map({'unknown':0,'telephone':1,'cellular':2})\n",
    "data['mon']=data['mon'].map({'may':0,'jul':1,'jan':2,'nov':3,'jun':4,'aug':5,'feb':6,'apr':7,'oct':8,'sep':9,'dec':10,'mar':11})"
   ]
  },
  {
   "cell_type": "markdown",
   "id": "cfbd7c6f",
   "metadata": {},
   "source": [
    "## ONE-HOT ENCODING"
   ]
  },
  {
   "cell_type": "code",
   "execution_count": 42,
   "id": "bf47ceb7",
   "metadata": {},
   "outputs": [
    {
     "data": {
      "text/html": [
       "<div>\n",
       "<style scoped>\n",
       "    .dataframe tbody tr th:only-of-type {\n",
       "        vertical-align: middle;\n",
       "    }\n",
       "\n",
       "    .dataframe tbody tr th {\n",
       "        vertical-align: top;\n",
       "    }\n",
       "\n",
       "    .dataframe thead th {\n",
       "        text-align: right;\n",
       "    }\n",
       "</style>\n",
       "<table border=\"1\" class=\"dataframe\">\n",
       "  <thead>\n",
       "    <tr style=\"text-align: right;\">\n",
       "      <th></th>\n",
       "      <th>age</th>\n",
       "      <th>job</th>\n",
       "      <th>education_qual</th>\n",
       "      <th>call_type</th>\n",
       "      <th>day</th>\n",
       "      <th>mon</th>\n",
       "      <th>dur</th>\n",
       "      <th>num_calls</th>\n",
       "      <th>y</th>\n",
       "      <th>marital_divorced</th>\n",
       "      <th>marital_married</th>\n",
       "      <th>marital_single</th>\n",
       "      <th>prev_outcome_failure</th>\n",
       "      <th>prev_outcome_other</th>\n",
       "      <th>prev_outcome_success</th>\n",
       "      <th>prev_outcome_unknown</th>\n",
       "    </tr>\n",
       "  </thead>\n",
       "  <tbody>\n",
       "    <tr>\n",
       "      <th>0</th>\n",
       "      <td>58</td>\n",
       "      <td>8</td>\n",
       "      <td>3</td>\n",
       "      <td>0</td>\n",
       "      <td>5</td>\n",
       "      <td>0</td>\n",
       "      <td>261</td>\n",
       "      <td>1</td>\n",
       "      <td>0</td>\n",
       "      <td>0</td>\n",
       "      <td>1</td>\n",
       "      <td>0</td>\n",
       "      <td>0</td>\n",
       "      <td>0</td>\n",
       "      <td>0</td>\n",
       "      <td>1</td>\n",
       "    </tr>\n",
       "    <tr>\n",
       "      <th>1</th>\n",
       "      <td>44</td>\n",
       "      <td>4</td>\n",
       "      <td>1</td>\n",
       "      <td>0</td>\n",
       "      <td>5</td>\n",
       "      <td>0</td>\n",
       "      <td>151</td>\n",
       "      <td>1</td>\n",
       "      <td>0</td>\n",
       "      <td>0</td>\n",
       "      <td>0</td>\n",
       "      <td>1</td>\n",
       "      <td>0</td>\n",
       "      <td>0</td>\n",
       "      <td>0</td>\n",
       "      <td>1</td>\n",
       "    </tr>\n",
       "    <tr>\n",
       "      <th>2</th>\n",
       "      <td>33</td>\n",
       "      <td>1</td>\n",
       "      <td>1</td>\n",
       "      <td>0</td>\n",
       "      <td>5</td>\n",
       "      <td>0</td>\n",
       "      <td>76</td>\n",
       "      <td>1</td>\n",
       "      <td>0</td>\n",
       "      <td>0</td>\n",
       "      <td>1</td>\n",
       "      <td>0</td>\n",
       "      <td>0</td>\n",
       "      <td>0</td>\n",
       "      <td>0</td>\n",
       "      <td>1</td>\n",
       "    </tr>\n",
       "    <tr>\n",
       "      <th>3</th>\n",
       "      <td>47</td>\n",
       "      <td>0</td>\n",
       "      <td>2</td>\n",
       "      <td>0</td>\n",
       "      <td>5</td>\n",
       "      <td>0</td>\n",
       "      <td>92</td>\n",
       "      <td>1</td>\n",
       "      <td>0</td>\n",
       "      <td>0</td>\n",
       "      <td>1</td>\n",
       "      <td>0</td>\n",
       "      <td>0</td>\n",
       "      <td>0</td>\n",
       "      <td>0</td>\n",
       "      <td>1</td>\n",
       "    </tr>\n",
       "    <tr>\n",
       "      <th>4</th>\n",
       "      <td>33</td>\n",
       "      <td>5</td>\n",
       "      <td>2</td>\n",
       "      <td>0</td>\n",
       "      <td>5</td>\n",
       "      <td>0</td>\n",
       "      <td>198</td>\n",
       "      <td>1</td>\n",
       "      <td>0</td>\n",
       "      <td>0</td>\n",
       "      <td>0</td>\n",
       "      <td>1</td>\n",
       "      <td>0</td>\n",
       "      <td>0</td>\n",
       "      <td>0</td>\n",
       "      <td>1</td>\n",
       "    </tr>\n",
       "  </tbody>\n",
       "</table>\n",
       "</div>"
      ],
      "text/plain": [
       "   age  job  education_qual  call_type  day  mon  dur  num_calls  y  \\\n",
       "0   58    8               3          0    5    0  261          1  0   \n",
       "1   44    4               1          0    5    0  151          1  0   \n",
       "2   33    1               1          0    5    0   76          1  0   \n",
       "3   47    0               2          0    5    0   92          1  0   \n",
       "4   33    5               2          0    5    0  198          1  0   \n",
       "\n",
       "   marital_divorced  marital_married  marital_single  prev_outcome_failure  \\\n",
       "0                 0                1               0                     0   \n",
       "1                 0                0               1                     0   \n",
       "2                 0                1               0                     0   \n",
       "3                 0                1               0                     0   \n",
       "4                 0                0               1                     0   \n",
       "\n",
       "   prev_outcome_other  prev_outcome_success  prev_outcome_unknown  \n",
       "0                   0                     0                     1  \n",
       "1                   0                     0                     1  \n",
       "2                   0                     0                     1  \n",
       "3                   0                     0                     1  \n",
       "4                   0                     0                     1  "
      ]
     },
     "execution_count": 42,
     "metadata": {},
     "output_type": "execute_result"
    }
   ],
   "source": [
    "data= pd.get_dummies(data, columns=[\"marital\",'prev_outcome'])\n",
    "data.head()"
   ]
  },
  {
   "cell_type": "markdown",
   "id": "7e8968a2",
   "metadata": {},
   "source": [
    "# TARGET AND FEATURE SELECTION"
   ]
  },
  {
   "cell_type": "code",
   "execution_count": 43,
   "id": "7539b058",
   "metadata": {},
   "outputs": [],
   "source": [
    "X = data[['age', 'job', 'education_qual', 'call_type', 'day', 'mon',\n",
    "       'dur', 'num_calls','marital_divorced', 'marital_married',\n",
    "       'marital_single', 'prev_outcome_failure', 'prev_outcome_other',\n",
    "       'prev_outcome_success', 'prev_outcome_unknown']].values\n",
    "y = data['y'].values"
   ]
  },
  {
   "cell_type": "markdown",
   "id": "d46dee85",
   "metadata": {},
   "source": [
    "## SPLITTING"
   ]
  },
  {
   "cell_type": "code",
   "execution_count": 44,
   "id": "f5f25e7a",
   "metadata": {},
   "outputs": [],
   "source": [
    "X_train,X_test,y_train,y_test = train_test_split(X,y,test_size=0.20,random_state=5)"
   ]
  },
  {
   "cell_type": "markdown",
   "id": "c44694cd",
   "metadata": {},
   "source": [
    "# SMOTEENN"
   ]
  },
  {
   "cell_type": "code",
   "execution_count": 45,
   "id": "a8723a72",
   "metadata": {},
   "outputs": [],
   "source": [
    "from imblearn.combine import SMOTEENN \n",
    "smt = SMOTEENN(sampling_strategy='all') \n",
    "X_train, y_train = smt.fit_resample(X_train, y_train) "
   ]
  },
  {
   "cell_type": "markdown",
   "id": "d14fdf1c",
   "metadata": {},
   "source": [
    "# Models"
   ]
  },
  {
   "cell_type": "markdown",
   "id": "0807302f",
   "metadata": {},
   "source": [
    "# 1. Logistic Regression"
   ]
  },
  {
   "cell_type": "code",
   "execution_count": 47,
   "id": "49ec63a1",
   "metadata": {},
   "outputs": [
    {
     "name": "stdout",
     "output_type": "stream",
     "text": [
      "Training Accuracy : 0.8983781564360501\n",
      "Testing Accuracy : 0.7621944475168676\n",
      "F1 Score : 0.45624683864441073\n",
      "ROC AUC Score : 0.7961326316449395\n"
     ]
    }
   ],
   "source": [
    "from sklearn.linear_model import LogisticRegression\n",
    "from sklearn.metrics import roc_auc_score,f1_score\n",
    "\n",
    "lr = LogisticRegression()\n",
    "lr.fit(X_train,y_train)\n",
    "lr.score(X_train,y_train)\n",
    "y_pred = lr.predict(X_test)\n",
    "print(\"Training Accuracy :\",lr.score(X_train,y_train))\n",
    "print(\"Testing Accuracy :\",lr.score(X_test,y_test))\n",
    "print(\"F1 Score :\", f1_score(y_test,y_pred))\n",
    "print(\"ROC AUC Score :\", roc_auc_score(y_test,y_pred))"
   ]
  },
  {
   "cell_type": "markdown",
   "id": "66504d72",
   "metadata": {},
   "source": [
    "# 2. Decision Tree "
   ]
  },
  {
   "cell_type": "code",
   "execution_count": 51,
   "id": "aa4701b8",
   "metadata": {},
   "outputs": [
    {
     "name": "stdout",
     "output_type": "stream",
     "text": [
      "Depth  :  1  Training Accuracy :  0.7833933670517534 ROC AUC Score : 0.7229150174790495  Cross val score :  0.7833933085603361\n",
      "Depth  :  2  Training Accuracy :  0.8017954125529572 ROC AUC Score : 0.7120369291705498  Cross val score :  0.8017957706477109\n",
      "Depth  :  3  Training Accuracy :  0.8682368750116646 ROC AUC Score : 0.7557943797557425  Cross val score :  0.8681075940457601\n",
      "Depth  :  4  Training Accuracy :  0.9082697224762509 ROC AUC Score : 0.7968357586918036  Cross val score :  0.9074309866967905\n",
      "Depth  :  5  Training Accuracy :  0.9140180287788582 ROC AUC Score : 0.8052432235933483  Cross val score :  0.9109773367405085\n",
      "Depth  :  6  Training Accuracy :  0.9278288945708367 ROC AUC Score : 0.8230319343543793  Cross val score :  0.923276169325379\n",
      "Depth  :  7  Training Accuracy :  0.934566357477464 ROC AUC Score : 0.8249620686848045  Cross val score :  0.928408402842396\n",
      "Depth  :  8  Training Accuracy :  0.9428715402848025 ROC AUC Score : 0.8291768542015219  Cross val score :  0.9373669799197744\n",
      "Depth  :  9  Training Accuracy :  0.949273063212706 ROC AUC Score : 0.8235513699719662  Cross val score :  0.9384683355807066\n",
      "Depth  :  10  Training Accuracy :  0.9570743360519587 ROC AUC Score : 0.8144385557140024  Cross val score :  0.9433021939976574\n",
      "Depth  :  20  Training Accuracy :  0.9992907933782498 ROC AUC Score : 0.7846911878642248  Cross val score :  0.9561241807953758\n"
     ]
    }
   ],
   "source": [
    "from sklearn.tree import DecisionTreeClassifier\n",
    "from sklearn.model_selection import cross_val_score\n",
    "from sklearn.metrics import roc_auc_score,f1_score,accuracy_score\n",
    "import numpy as np\n",
    "\n",
    "for depth in [1,2,3,4,5,6,7,8,9,10,20]:\n",
    "    dt = DecisionTreeClassifier(max_depth=depth) \n",
    "    dt.fit(X_train, y_train) \n",
    "    trainAccuracy = accuracy_score(y_train, dt.predict(X_train)) \n",
    "    dt = DecisionTreeClassifier(max_depth=depth) \n",
    "    valAccuracy = cross_val_score(dt, X_train, y_train, cv=10)\n",
    "    dt = DecisionTreeClassifier(max_depth=depth) \n",
    "    dt.fit(X_train,y_train)\n",
    "    y_pred = dt.predict(X_test)\n",
    "    roc = roc_auc_score(y_test,y_pred)\n",
    "    print(\"Depth  : \", depth, \" Training Accuracy : \", trainAccuracy,\"ROC AUC Score :\", roc, \" Cross val score : \" ,np.mean(valAccuracy))"
   ]
  },
  {
   "cell_type": "code",
   "execution_count": 52,
   "id": "c8f2a2a6",
   "metadata": {},
   "outputs": [
    {
     "name": "stdout",
     "output_type": "stream",
     "text": [
      "Training Accuracy : 0.9993094567104011\n",
      "Testing Accuracy : 0.843601371529698\n",
      "F1 Score : 0.5137551581843192\n",
      "ROC AUC Score : 0.779816376409646\n"
     ]
    }
   ],
   "source": [
    "tree = DecisionTreeClassifier(max_depth=20)\n",
    "tree.fit(X_train,y_train)\n",
    "y_pred = tree.predict(X_test)\n",
    "print(\"Training Accuracy :\",tree.score(X_train,y_train))\n",
    "print(\"Testing Accuracy :\",tree.score(X_test,y_test))\n",
    "print(\"F1 Score :\", f1_score(y_test,y_pred))\n",
    "print(\"ROC AUC Score :\", roc_auc_score(y_test,y_pred))"
   ]
  },
  {
   "cell_type": "markdown",
   "id": "e9920ece",
   "metadata": {},
   "source": [
    "## 3. K-NEAREST NEIGHBOUR"
   ]
  },
  {
   "cell_type": "code",
   "execution_count": 54,
   "id": "b4d84a46",
   "metadata": {},
   "outputs": [
    {
     "name": "stdout",
     "output_type": "stream",
     "text": [
      "K value  :  1  Train score :  1.0  Cross val score :  0.9948489217031614\n",
      "K value  :  2  Train score :  0.9998320300106381  Cross val score :  0.9954648092282097\n",
      "K value  :  3  Train score :  0.9968645601985778  Cross val score :  0.9864130739517082\n",
      "K value  :  4  Train score :  0.9969765401914857  Cross val score :  0.9879621455006461\n",
      "K value  :  5  Train score :  0.9907056605886415  Cross val score :  0.9769507690488126\n",
      "K value  :  6  Train score :  0.9913962038782405  Cross val score :  0.9788544540095081\n",
      "K value  :  7  Train score :  0.9838002276926523  Cross val score :  0.9672085193867892\n",
      "K value  :  8  Train score :  0.9846587409716131  Cross val score :  0.970138685877685\n",
      "K value  :  9  Train score :  0.9755510348817678  Cross val score :  0.9600978626028531\n",
      "K value  :  10  Train score :  0.9771187547824789  Cross val score :  0.9625800972796024\n",
      "K value  :  20  Train score :  0.9494596965342192  Cross val score :  0.937608604754234\n",
      "K value  :  30  Train score :  0.9336331908698979  Cross val score :  0.92342447227477\n",
      "K value  :  40  Train score :  0.9223792015826505  Cross val score :  0.9119091694846769\n",
      "K value  :  50  Train score :  0.9112931822847651  Cross val score :  0.9019429173474436\n"
     ]
    }
   ],
   "source": [
    "from sklearn.neighbors import KNeighborsClassifier \n",
    "from sklearn.model_selection import cross_val_score \n",
    "for i in [1,2,3,4,5,6,7,8,9,10,20,30,40,50]: \n",
    "  knn= KNeighborsClassifier(i)\n",
    "  knn.fit(X_train, y_train) \n",
    "  print(\"K value  : \" , i, \" Train score : \", knn.score(X_train,y_train) , \" Cross val score : \", np.mean(cross_val_score(knn, X_train, y_train, cv=10))) #predicting using the model"
   ]
  },
  {
   "cell_type": "code",
   "execution_count": 56,
   "id": "c1b7d5a0",
   "metadata": {},
   "outputs": [
    {
     "name": "stdout",
     "output_type": "stream",
     "text": [
      "Training Accuracy : 0.9907056605886415\n",
      "Testing Accuracy : 0.748368543302732\n",
      "F1 Score : 0.4279607744531053\n",
      "ROC AUC Score : 0.7677239128929512\n"
     ]
    }
   ],
   "source": [
    "knn = KNeighborsClassifier(5)\n",
    "knn.fit(X_train,y_train)\n",
    "y_pred = knn.predict(X_test)\n",
    "print(\"Training Accuracy :\",knn.score(X_train,y_train))\n",
    "print(\"Testing Accuracy :\",knn.score(X_test,y_test))\n",
    "print(\"F1 Score :\", f1_score(y_test,y_pred))\n",
    "print(\"ROC AUC Score :\", roc_auc_score(y_test,y_pred))"
   ]
  },
  {
   "cell_type": "markdown",
   "id": "d63b6797",
   "metadata": {},
   "source": [
    "## 4. XG_BOOST"
   ]
  },
  {
   "cell_type": "code",
   "execution_count": 57,
   "id": "54816675",
   "metadata": {},
   "outputs": [
    {
     "name": "stdout",
     "output_type": "stream",
     "text": [
      "Learning rate :  0.01  Train score :  0.9413224837162427  Cross-Val score :  0.9360231496505375\n",
      "Learning rate :  0.02  Train score :  0.9478733133013568  Cross-Val score :  0.9419581303888809\n",
      "Learning rate :  0.03  Train score :  0.9536962729325694  Cross-Val score :  0.9478372315315411\n",
      "Learning rate :  0.04  Train score :  0.9595752225602359  Cross-Val score :  0.9527271053686832\n",
      "Learning rate :  0.05  Train score :  0.9629906123439279  Cross-Val score :  0.9559560230890518\n",
      "Learning rate :  0.06  Train score :  0.9657341221701723  Cross-Val score :  0.9582702881241806\n",
      "Learning rate :  0.07  Train score :  0.9673018420708833  Cross-Val score :  0.9594647810881579\n",
      "Learning rate :  0.08  Train score :  0.9698587185756145  Cross-Val score :  0.9606033178374982\n",
      "Learning rate :  0.09  Train score :  0.9710158451689965  Cross-Val score :  0.96146180883\n",
      "Learning rate :  0.1  Train score :  0.9721356450980758  Cross-Val score :  0.9622643540559045\n",
      "Learning rate :  0.11  Train score :  0.9728635150519774  Cross-Val score :  0.9631042440561629\n",
      "Learning rate :  0.12  Train score :  0.9747485115992609  Cross-Val score :  0.9642426763251125\n",
      "Learning rate :  0.13  Train score :  0.9758496481961889  Cross-Val score :  0.963850773861876\n",
      "Learning rate :  0.14  Train score :  0.9771934081110841  Cross-Val score :  0.9652504523826788\n",
      "Learning rate :  0.15  Train score :  0.9773987047647487  Cross-Val score :  0.9652878946720644\n",
      "Learning rate :  0.2  Train score :  0.9817472611560067  Cross-Val score :  0.9672101214194484\n",
      "Learning rate :  0.5  Train score :  0.9948675836583863  Cross-Val score :  0.9714840345952684\n",
      "Learning rate :  0.7  Train score :  0.9978537168025979  Cross-Val score :  0.9716706156771713\n",
      "Learning rate :  1  Train score :  0.9996080700248222  Cross-Val score :  0.9713907022621606\n"
     ]
    }
   ],
   "source": [
    "import xgboost as xgb\n",
    "from xgboost import XGBClassifier\n",
    "from sklearn.model_selection import cross_val_score\n",
    "import numpy as np\n",
    "for i in [0.01,0.02,0.03,0.04,0.05,0.06,0.07,0.08,0.09,0.1,0.11,0.12,0.13,0.14,0.15,0.2,0.5,0.7,1]:\n",
    "  model = xgb.XGBClassifier(learning_rate = i, n_estimators=100, verbosity = 0) # initialise the model\n",
    "  model.fit(X_train,y_train) #train the model\n",
    "  model.score(X_test, y_test) # scoring the model - r2 squared\n",
    "  print(\"Learning rate : \", i, \" Train score : \", model.score(X_train,y_train), \" Cross-Val score : \", np.mean(cross_val_score(model, X_train, y_train, cv=10)))"
   ]
  },
  {
   "cell_type": "code",
   "execution_count": 58,
   "id": "cbf65962",
   "metadata": {},
   "outputs": [
    {
     "name": "stdout",
     "output_type": "stream",
     "text": [
      "Training Accuracy : 0.9771934081110841\n",
      "Testing Accuracy : 0.8634000663643402\n",
      "F1 Score : 0.5831927100911238\n",
      "ROC AUC Score : 0.8382269759373001\n"
     ]
    }
   ],
   "source": [
    "xg = XGBClassifier(learning_rate = 0.14, n_estimators=100, verbosity = 0)\n",
    "xg.fit(X_train,y_train)\n",
    "y_pred = xg.predict(X_test)\n",
    "print(\"Training Accuracy :\",xg.score(X_train,y_train))\n",
    "print(\"Testing Accuracy :\",xg.score(X_test,y_test))\n",
    "print(\"F1 Score :\", f1_score(y_test,y_pred))\n",
    "print(\"ROC AUC Score :\", roc_auc_score(y_test,y_pred))"
   ]
  },
  {
   "cell_type": "markdown",
   "id": "fa986551",
   "metadata": {},
   "source": [
    "## 5. Random Forest"
   ]
  },
  {
   "cell_type": "code",
   "execution_count": 60,
   "id": "db767218",
   "metadata": {},
   "outputs": [
    {
     "name": "stdout",
     "output_type": "stream",
     "text": [
      "Training Accuracy : 0.9331666075661148\n",
      "Testing Accuracy : 0.7933856874239575\n",
      "F1 Score : 0.5018666666666666\n",
      "ROC AUC Score : 0.8295544713803957\n"
     ]
    }
   ],
   "source": [
    "from sklearn.ensemble import RandomForestClassifier\n",
    "rf = RandomForestClassifier(n_estimators=100,max_depth=6, max_features='sqrt')\n",
    "rf.fit(X_train,y_train)\n",
    "y_pred = rf.predict(X_test)\n",
    "print(\"Training Accuracy :\",rf.score(X_train,y_train))\n",
    "print(\"Testing Accuracy :\",rf.score(X_test,y_test))\n",
    "print(\"F1 Score :\", f1_score(y_test,y_pred))\n",
    "print(\"ROC AUC Score :\", roc_auc_score(y_test,y_pred))"
   ]
  },
  {
   "cell_type": "markdown",
   "id": "1d57ae30",
   "metadata": {},
   "source": [
    "# Actual vs Prediction"
   ]
  },
  {
   "cell_type": "code",
   "execution_count": 61,
   "id": "a007de75",
   "metadata": {},
   "outputs": [
    {
     "data": {
      "text/html": [
       "<div>\n",
       "<style scoped>\n",
       "    .dataframe tbody tr th:only-of-type {\n",
       "        vertical-align: middle;\n",
       "    }\n",
       "\n",
       "    .dataframe tbody tr th {\n",
       "        vertical-align: top;\n",
       "    }\n",
       "\n",
       "    .dataframe thead th {\n",
       "        text-align: right;\n",
       "    }\n",
       "</style>\n",
       "<table border=\"1\" class=\"dataframe\">\n",
       "  <thead>\n",
       "    <tr style=\"text-align: right;\">\n",
       "      <th></th>\n",
       "      <th>Actual</th>\n",
       "      <th>Predicted</th>\n",
       "    </tr>\n",
       "  </thead>\n",
       "  <tbody>\n",
       "    <tr>\n",
       "      <th>0</th>\n",
       "      <td>0</td>\n",
       "      <td>0</td>\n",
       "    </tr>\n",
       "    <tr>\n",
       "      <th>1</th>\n",
       "      <td>0</td>\n",
       "      <td>0</td>\n",
       "    </tr>\n",
       "    <tr>\n",
       "      <th>2</th>\n",
       "      <td>0</td>\n",
       "      <td>1</td>\n",
       "    </tr>\n",
       "    <tr>\n",
       "      <th>3</th>\n",
       "      <td>0</td>\n",
       "      <td>0</td>\n",
       "    </tr>\n",
       "    <tr>\n",
       "      <th>4</th>\n",
       "      <td>0</td>\n",
       "      <td>0</td>\n",
       "    </tr>\n",
       "    <tr>\n",
       "      <th>...</th>\n",
       "      <td>...</td>\n",
       "      <td>...</td>\n",
       "    </tr>\n",
       "    <tr>\n",
       "      <th>9036</th>\n",
       "      <td>0</td>\n",
       "      <td>0</td>\n",
       "    </tr>\n",
       "    <tr>\n",
       "      <th>9037</th>\n",
       "      <td>0</td>\n",
       "      <td>0</td>\n",
       "    </tr>\n",
       "    <tr>\n",
       "      <th>9038</th>\n",
       "      <td>0</td>\n",
       "      <td>1</td>\n",
       "    </tr>\n",
       "    <tr>\n",
       "      <th>9039</th>\n",
       "      <td>0</td>\n",
       "      <td>0</td>\n",
       "    </tr>\n",
       "    <tr>\n",
       "      <th>9040</th>\n",
       "      <td>0</td>\n",
       "      <td>0</td>\n",
       "    </tr>\n",
       "  </tbody>\n",
       "</table>\n",
       "<p>9041 rows × 2 columns</p>\n",
       "</div>"
      ],
      "text/plain": [
       "      Actual  Predicted\n",
       "0          0          0\n",
       "1          0          0\n",
       "2          0          1\n",
       "3          0          0\n",
       "4          0          0\n",
       "...      ...        ...\n",
       "9036       0          0\n",
       "9037       0          0\n",
       "9038       0          1\n",
       "9039       0          0\n",
       "9040       0          0\n",
       "\n",
       "[9041 rows x 2 columns]"
      ]
     },
     "execution_count": 61,
     "metadata": {},
     "output_type": "execute_result"
    }
   ],
   "source": [
    "df1 = pd.DataFrame({'Actual':y_test,'Predicted':y_pred}).reset_index()\n",
    "df1.drop('index',axis=1,inplace=True)\n",
    "df1"
   ]
  },
  {
   "cell_type": "code",
   "execution_count": null,
   "id": "42de207b",
   "metadata": {},
   "outputs": [],
   "source": []
  }
 ],
 "metadata": {
  "kernelspec": {
   "display_name": "Python 3 (ipykernel)",
   "language": "python",
   "name": "python3"
  },
  "language_info": {
   "codemirror_mode": {
    "name": "ipython",
    "version": 3
   },
   "file_extension": ".py",
   "mimetype": "text/x-python",
   "name": "python",
   "nbconvert_exporter": "python",
   "pygments_lexer": "ipython3",
   "version": "3.9.12"
  }
 },
 "nbformat": 4,
 "nbformat_minor": 5
}
